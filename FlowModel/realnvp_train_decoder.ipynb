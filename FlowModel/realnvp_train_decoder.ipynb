{
 "cells": [
  {
   "cell_type": "code",
   "execution_count": null,
   "metadata": {},
   "outputs": [],
   "source": [
    "import torch\n",
    "import numpy as np\n",
    "import matplotlib.pyplot as plt\n",
    "import os.path as path\n",
    "import sys\n",
    "sys.path.append(path.abspath(\"src/\"))\n",
    "\n",
    "from norm_flow.realnvp import RealNVP_2D, dual_layer\n",
    "from norm_flow.utils import *\n",
    "torch.manual_seed(123)\n",
    "\n",
    "# hyperparameters\n",
    "masks = dual_layer * 2\n",
    "hidden_dim = 32\n",
    "max_iter = 40000\n",
    "batch_size = 2048\n",
    "eval_step = 1000"
   ]
  },
  {
   "cell_type": "code",
   "execution_count": null,
   "metadata": {},
   "outputs": [],
   "source": [
    "# model, optimizer\n",
    "realNVP = RealNVP_2D(masks, hidden_dim).to(device)\n",
    "optimizer = torch.optim.AdamW(realNVP.parameters(), lr=0.001)\n",
    "warm_up = torch.optim.lr_scheduler.LinearLR(optimizer, 1e-3, 1, 8000)\n",
    "decay = torch.optim.lr_scheduler.StepLR(optimizer, max_iter / 4, 0.5)\n",
    "scheduler = torch.optim.lr_scheduler.ChainedScheduler([warm_up, decay])\n",
    "\n",
    "sum(p.numel() for p in realNVP.parameters() if p.requires_grad)"
   ]
  },
  {
   "cell_type": "code",
   "execution_count": null,
   "metadata": {},
   "outputs": [],
   "source": [
    "# data\n",
    "run_path = \"/home/zhangbw/Documents/projects/ttbar-unfolding/run\"\n",
    "file_name = \"reco_analysis__ttbar_nlo_ATLAS_PileUp.root\"\n",
    "tree_name = \"truth\" # \"reco\"\n",
    "\n",
    "df = get_dateframe(path.join(run_path, file_name), tree_name)\n",
    "display(df)\n",
    "\n",
    "# processing\n",
    "quantile_scaling_(df, \"ST_truth\")\n",
    "quantile_scaling_(df, \"t0_truth_Pt\")\n",
    "\n",
    "print(f\"weight_median = {df.weight.median()}\")\n",
    "df[\"weight\"] /= df[\"weight\"].median()\n",
    "\n",
    "# reject outliers\n",
    "df = df[df.weight > 0]\n",
    "\n",
    "x = df[[\"ST_truth\", \"t0_truth_Pt\"]].to_numpy()\n",
    "w = df[\"weight\"].to_numpy()\n",
    "x, w, x_val, w_val, N = train_val_split(df, x, w, device=device)"
   ]
  },
  {
   "cell_type": "code",
   "execution_count": null,
   "metadata": {},
   "outputs": [],
   "source": [
    "step, loss_train_step, loss_val_step = train(\n",
    "    realNVP, x, w, x_val, w_val, max_iter, eval_step, batch_size, optimizer, scheduler\n",
    ")\n",
    "torch.save(realNVP.state_dict(), path.join(run_path, \"realnvp_truth.pth\"))"
   ]
  },
  {
   "cell_type": "code",
   "execution_count": null,
   "metadata": {},
   "outputs": [],
   "source": [
    "plt.figure()\n",
    "plt.plot(np.array(step), np.array(loss_train_step))\n",
    "plt.plot(np.array(step), np.array(loss_val_step))"
   ]
  },
  {
   "cell_type": "code",
   "execution_count": null,
   "metadata": {},
   "outputs": [],
   "source": [
    "x, _, _ = get_batch(x_val, w_val, 10000)\n",
    "z, log_det = realNVP.inverse(x)\n",
    "z = z.detach().cpu().numpy()\n",
    "x = x.detach().cpu().numpy()\n",
    "draw_dist2d2(x, z)"
   ]
  },
  {
   "cell_type": "code",
   "execution_count": null,
   "metadata": {},
   "outputs": [],
   "source": []
  }
 ],
 "metadata": {
  "kernelspec": {
   "display_name": "kaggle",
   "language": "python",
   "name": "python3"
  },
  "language_info": {
   "codemirror_mode": {
    "name": "ipython",
    "version": 3
   },
   "file_extension": ".py",
   "mimetype": "text/x-python",
   "name": "python",
   "nbconvert_exporter": "python",
   "pygments_lexer": "ipython3",
   "version": "3.9.16"
  }
 },
 "nbformat": 4,
 "nbformat_minor": 2
}
