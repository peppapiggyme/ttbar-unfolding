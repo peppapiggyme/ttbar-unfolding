{
 "cells": [
  {
   "cell_type": "code",
   "execution_count": null,
   "metadata": {},
   "outputs": [],
   "source": [
    "import torch\n",
    "import uproot\n",
    "import numpy as np\n",
    "import matplotlib.pyplot as plt\n",
    "import os.path as path\n",
    "import sys\n",
    "sys.path.append(path.abspath(\"src/\"))\n",
    "\n",
    "from norm_flow.realnvp import RealNVP_2D, dual_layer\n",
    "from norm_flow.utils import *\n",
    "torch.manual_seed(42)\n",
    "np.random.seed(42)"
   ]
  },
  {
   "cell_type": "code",
   "execution_count": null,
   "metadata": {},
   "outputs": [],
   "source": [
    "# load models\n",
    "run_path = \"/home/zhangbw/Documents/projects/ttbar-unfolding/run\"\n",
    "encoder_model = \"realnvp_reco.pth\"\n",
    "decoder_model = \"realnvp_truth.pth\"\n",
    "\n",
    "encoder = RealNVP_2D(dual_layer * 2, 16)\n",
    "decoder = RealNVP_2D(dual_layer * 2, 32)\n",
    "\n",
    "encoder.load_state_dict(torch.load(path.join(run_path, encoder_model)))\n",
    "decoder.load_state_dict(torch.load(path.join(run_path, decoder_model)))"
   ]
  },
  {
   "cell_type": "code",
   "execution_count": null,
   "metadata": {},
   "outputs": [],
   "source": [
    "file_name = \"reco_analysis__ttbar_nlo_ATLAS_PileUp_Test.root\"\n",
    "\n",
    "df = get_dateframe(path.join(run_path, file_name), \"reco\")\n",
    "df_truth = get_dateframe(path.join(run_path, file_name), \"truth\")\n",
    "\n",
    "st, _ = quantile_scaling(df, \"ST\")\n",
    "b1_pt, _ = quantile_scaling(df, \"b1_Pt\")\n",
    "st_truth, quantile = quantile_scaling(df_truth, \"ST_truth\")"
   ]
  },
  {
   "cell_type": "code",
   "execution_count": null,
   "metadata": {},
   "outputs": [],
   "source": [
    "x = np.concatenate((st.reshape(-1, 1), b1_pt.reshape(-1, 1)), axis=1)\n",
    "w = df[\"weight\"].to_numpy()\n",
    "\n",
    "x = torch.from_numpy(x).float()\n",
    "w = torch.from_numpy(w).float()\n",
    "\n",
    "x, w = get_batch(x, w, df_truth.weight.count())\n",
    "N = x.shape[0]"
   ]
  },
  {
   "cell_type": "code",
   "execution_count": null,
   "metadata": {},
   "outputs": [],
   "source": [
    "z, log_det = encoder.inverse(x)\n",
    "x_trans, log_det = decoder.forward(z)\n",
    "z_ = z.detach().numpy()\n",
    "x_ = x.detach().numpy()\n",
    "x_trans_ = x_trans.detach().numpy()"
   ]
  },
  {
   "cell_type": "code",
   "execution_count": null,
   "metadata": {},
   "outputs": [],
   "source": [
    "draw_dist2d3(x_, x_trans_, z_)"
   ]
  },
  {
   "cell_type": "code",
   "execution_count": null,
   "metadata": {},
   "outputs": [],
   "source": [
    "q25, q50, q75 = quantile\n",
    "\n",
    "x_truth_ = df_truth[\"ST_truth\"]\n",
    "x_ = df[\"ST\"]\n",
    "x_trans_[:, 0] = (q75 - q25) * x_trans_[:, 0] + q50\n",
    "x_trans_ = x_trans_[:, 0]\n",
    "\n",
    "w = df[\"weight\"]\n",
    "w_t = df_truth[\"weight\"]\n",
    "w_unfold = w_t.to_numpy().copy()\n",
    "# random shuffle of truth weights: probably not good practice\n",
    "np.random.shuffle(w_unfold)"
   ]
  },
  {
   "cell_type": "code",
   "execution_count": null,
   "metadata": {},
   "outputs": [],
   "source": [
    "draw_hist3(x_, x_trans_, x_truth_, w, w_unfold, w_t)"
   ]
  },
  {
   "cell_type": "code",
   "execution_count": null,
   "metadata": {},
   "outputs": [],
   "source": [
    "output = uproot.recreate(path.join(run_path, \"realnvp_output.root\"))\n",
    "output[\"reco\"] = {\"ST\": x_, \"weight\": w}\n",
    "output[\"unfold\"] = {\"ST_NF\": x_trans_, \"weight\": w_unfold}\n",
    "output[\"truth\"] = {\"ST_truth\": x_truth_, \"weight\": w_t}"
   ]
  }
 ],
 "metadata": {
  "kernelspec": {
   "display_name": "kaggle",
   "language": "python",
   "name": "python3"
  },
  "language_info": {
   "codemirror_mode": {
    "name": "ipython",
    "version": 3
   },
   "file_extension": ".py",
   "mimetype": "text/x-python",
   "name": "python",
   "nbconvert_exporter": "python",
   "pygments_lexer": "ipython3",
   "version": "3.9.16"
  }
 },
 "nbformat": 4,
 "nbformat_minor": 2
}
