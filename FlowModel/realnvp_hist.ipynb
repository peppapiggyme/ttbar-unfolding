{
 "cells": [
  {
   "cell_type": "code",
   "execution_count": null,
   "metadata": {},
   "outputs": [],
   "source": [
    "import ROOT as R\n",
    "import os.path as path\n",
    "\n",
    "run_path = \"/home/zhangbw/Documents/projects/ttbar-unfolding/run\"\n",
    "file_name = path.join(run_path, \"realnvp_output.root\")\n",
    "out_file_name = path.join(run_path, \"realnvp_output_hist.root\")"
   ]
  },
  {
   "cell_type": "code",
   "execution_count": null,
   "metadata": {},
   "outputs": [],
   "source": [
    "reco = R.RDataFrame(\"reco\", file_name)\n",
    "unfold = R.RDataFrame(\"unfold\", file_name)\n",
    "truth = R.RDataFrame(\"truth\", file_name)"
   ]
  },
  {
   "cell_type": "code",
   "execution_count": null,
   "metadata": {},
   "outputs": [],
   "source": [
    "def FillHist(df, var_name, hist_title, nbins, start, end, weight_name=\"weight\"):\n",
    "    return df.Histo1D(\n",
    "        R.RDF.TH1DModel(var_name, hist_title, nbins, start, end), var_name, weight_name\n",
    "    )"
   ]
  },
  {
   "cell_type": "code",
   "execution_count": null,
   "metadata": {},
   "outputs": [],
   "source": [
    "h_reco = FillHist(reco, \"ST\", \"\", 40, 0, 800)\n",
    "h_unfold = FillHist(unfold, \"ST_NF\", \"\", 40, 0, 800)\n",
    "h_truth = FillHist(truth, \"ST_truth\", \"\", 40, 0, 800)\n",
    "\n",
    "h_reco.SetDirectory(0)\n",
    "h_unfold.SetDirectory(0)\n",
    "h_truth.SetDirectory(0)"
   ]
  },
  {
   "cell_type": "code",
   "execution_count": null,
   "metadata": {},
   "outputs": [],
   "source": [
    "f = R.TFile(out_file_name, \"recreate\")\n",
    "h_reco.Write()\n",
    "h_unfold.Write()\n",
    "h_truth.Write()\n",
    "f.Close()"
   ]
  }
 ],
 "metadata": {
  "kernelspec": {
   "display_name": "Python 3",
   "language": "python",
   "name": "python3"
  },
  "language_info": {
   "codemirror_mode": {
    "name": "ipython",
    "version": 3
   },
   "file_extension": ".py",
   "mimetype": "text/x-python",
   "name": "python",
   "nbconvert_exporter": "python",
   "pygments_lexer": "ipython3",
   "version": "3.10.12"
  }
 },
 "nbformat": 4,
 "nbformat_minor": 2
}
