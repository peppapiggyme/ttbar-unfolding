{
 "cells": [
  {
   "cell_type": "code",
   "execution_count": null,
   "metadata": {},
   "outputs": [],
   "source": [
    "import torch\n",
    "import numpy as np\n",
    "import matplotlib.pyplot as plt\n",
    "import os.path as path\n",
    "import sys\n",
    "sys.path.append(path.abspath(\"src/\"))"
   ]
  },
  {
   "cell_type": "code",
   "execution_count": null,
   "metadata": {},
   "outputs": [],
   "source": [
    "from scipy.optimize import curve_fit\n",
    "from norm_flow.planar import PlanarFlow\n",
    "from norm_flow.utils import log_gaussian"
   ]
  },
  {
   "cell_type": "code",
   "execution_count": null,
   "metadata": {},
   "outputs": [],
   "source": [
    "torch.manual_seed(42)\n",
    "device = \"cuda\" if torch.cuda.is_available() else \"cpu\"\n",
    "device = \"cpu\""
   ]
  },
  {
   "cell_type": "code",
   "execution_count": null,
   "metadata": {},
   "outputs": [],
   "source": [
    "# hyperparameters\n",
    "n_dim = 1\n",
    "n_layer = 4\n",
    "batch_size = 4096\n",
    "max_iter = 5000"
   ]
  },
  {
   "cell_type": "code",
   "execution_count": null,
   "metadata": {},
   "outputs": [],
   "source": [
    "st = np.random.normal(-2.5, 2.5, (50000,))\n",
    "st_truth = np.random.normal(-5, 4, (100000,))"
   ]
  },
  {
   "cell_type": "code",
   "execution_count": null,
   "metadata": {},
   "outputs": [],
   "source": [
    "log_0 = lambda z: log_gaussian(z, -2.5, 2.5)\n",
    "log_k = lambda z: log_gaussian(z, -5, 4)"
   ]
  },
  {
   "cell_type": "code",
   "execution_count": null,
   "metadata": {},
   "outputs": [],
   "source": [
    "model = PlanarFlow(n_dim, n_layer)\n",
    "m = model.to(device)\n",
    "sum(p.numel() for p in model.parameters() if p.requires_grad)"
   ]
  },
  {
   "cell_type": "code",
   "execution_count": null,
   "metadata": {},
   "outputs": [],
   "source": [
    "optimizer = torch.optim.AdamW(model.parameters(), lr=0.01)"
   ]
  },
  {
   "cell_type": "code",
   "execution_count": null,
   "metadata": {},
   "outputs": [],
   "source": [
    "x = st\n",
    "\n",
    "def get_batch(x):\n",
    "    x_tensor = torch.from_numpy(x).to(device).float()\n",
    "    idx = torch.randint(0, len(x_tensor), (batch_size, )).to(device)\n",
    "    return x_tensor[idx]\n",
    "\n",
    "step = list()\n",
    "loss_train = list()\n",
    "\n",
    "for i in range(max_iter):\n",
    "    if i % 100 == 0:\n",
    "        print(f\"{i} / {max_iter}\")\n",
    "    xb = get_batch(x)\n",
    "    xk, sum_log_jacob = m(xb)\n",
    "    loss = m.reverse_kld(xb, log_0, log_k)\n",
    "    if i > 100:\n",
    "        step.append(i)\n",
    "        loss_train.append(loss.item())\n",
    "    optimizer.zero_grad(set_to_none=True)\n",
    "    loss.backward()\n",
    "    optimizer.step()"
   ]
  },
  {
   "cell_type": "code",
   "execution_count": null,
   "metadata": {},
   "outputs": [],
   "source": [
    "plt.plot(np.array(step), np.array(loss_train))"
   ]
  },
  {
   "cell_type": "code",
   "execution_count": null,
   "metadata": {},
   "outputs": [],
   "source": [
    "with torch.no_grad():\n",
    "    output, _ = m(torch.normal(-2.5, 2.5, (100000,)).to(device))\n",
    "    output = output.cpu().numpy()\n",
    "    plt.hist(output, bins=100)\n",
    "    \n",
    "    hist, bin_edges = np.histogram(output, bins=100)\n",
    "    bin_centres = (bin_edges[:-1] + bin_edges[1:]) / 2\n",
    "\n",
    "    def gauss(x, *p):\n",
    "        A, mu, sigma = p\n",
    "        return A * np.exp(-((x - mu) ** 2) / (2.0 * sigma**2))\n",
    "\n",
    "    p0 = [3500.0, 0.0, 1.0]\n",
    "    coeff, var_matrix = curve_fit(gauss, bin_centres, hist, p0=p0)\n",
    "\n",
    "    print(coeff)"
   ]
  },
  {
   "cell_type": "code",
   "execution_count": null,
   "metadata": {},
   "outputs": [],
   "source": []
  }
 ],
 "metadata": {
  "kernelspec": {
   "display_name": "kaggle",
   "language": "python",
   "name": "python3"
  },
  "language_info": {
   "codemirror_mode": {
    "name": "ipython",
    "version": 3
   },
   "file_extension": ".py",
   "mimetype": "text/x-python",
   "name": "python",
   "nbconvert_exporter": "python",
   "pygments_lexer": "ipython3",
   "version": "3.9.16"
  }
 },
 "nbformat": 4,
 "nbformat_minor": 2
}
